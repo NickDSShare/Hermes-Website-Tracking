{
 "cells": [
  {
   "cell_type": "markdown",
   "id": "1e95811a",
   "metadata": {},
   "source": [
    "# Hermes Website Tracking"
   ]
  },
  {
   "cell_type": "markdown",
   "id": "237b5a02",
   "metadata": {},
   "source": [
    "This program is to track HK Hermes website and hopfully to see an update of valuable bag types: \n",
    "    - Garden Party\n",
    "    - Picotin\n",
    "    - Evelyn Bag\n",
    "    - 24/24 Bag\n",
    "    - Lindy Bag\n",
    "    - Kelly\n",
    "    - Birkin\n",
    "    - Constance\n",
    "    \n",
    "Enjoy~"
   ]
  },
  {
   "cell_type": "code",
   "execution_count": 5,
   "id": "438d64ee",
   "metadata": {},
   "outputs": [],
   "source": [
    "#import important packages\n",
    "\n",
    "import requests\n",
    "from bs4 import BeautifulSoup\n",
    "import pandas as pd"
   ]
  },
  {
   "cell_type": "code",
   "execution_count": 6,
   "id": "5db96736",
   "metadata": {},
   "outputs": [],
   "source": [
    "#HK Hermes website (women bag page)\n",
    "\n",
    "url = \"https://www.hermes.com/hk/en/category/women/bags-and-small-leather-goods/bags-and-clutches/\""
   ]
  },
  {
   "cell_type": "code",
   "execution_count": null,
   "id": "185c4289",
   "metadata": {},
   "outputs": [],
   "source": [
    "#Get the response from the website and soup its HTML (ignore the cert error)\n",
    "\n",
    "page = requests.get(url, headers={'User-Agent': 'Chrome'},verify=False)\n",
    "status = page.status_code\n",
    "soup = BeautifulSoup(page.content, 'html.parser')"
   ]
  },
  {
   "cell_type": "code",
   "execution_count": 13,
   "id": "ae9351f7",
   "metadata": {},
   "outputs": [],
   "source": [
    "#Create readable list and store in item_conso (also in special)\n",
    "\n",
    "if status == 200:\n",
    "    a = soup.find_all(class_=\"product-item-name\")\n",
    "    item_name_tbl = []\n",
    "    for item_name in a:\n",
    "      item_name_tbl.append(item_name.text)\n",
    "      \n",
    "    item_name_tbl = pd.DataFrame(item_name_tbl)\n",
    "    item_name_tbl.columns =['Name']\n",
    "    \n",
    "    \n",
    "    b = soup.find_all(class_=\"product-item-price ng-star-inserted\")\n",
    "    item_price_tbl = []\n",
    "    for item_price in b:\n",
    "      item_price_tbl.append(item_price.text)\n",
    "      \n",
    "    item_price_tbl = pd.DataFrame(item_price_tbl)\n",
    "    item_price_tbl.columns =['Price']\n",
    "    item_price_tbl['Price'] = item_price_tbl['Price'].str[3:]\n",
    "    \n",
    "    \n",
    "    c = soup.find_all('a', href=True)\n",
    "    link_tbl = []\n",
    "    for tag in c:\n",
    "        link_tbl.append(tag.get('href'))\n",
    "    link_tbl = pd.DataFrame(link_tbl)\n",
    "    link_tbl.columns =['Link']\n",
    "    link_tbl = link_tbl[link_tbl.Link.str.contains(\"/en/product/\", case=False)]\n",
    "    link_tbl.Link = 'https://www.hermes.com' + link_tbl.Link.astype(str)\n",
    "    link_tbl = link_tbl.reset_index()['Link']\n",
    "    \n",
    "    \n",
    "    \n",
    "    item_conso = item_name_tbl.join(item_price_tbl).join(link_tbl) \n",
    "    item_conso.loc[item_conso.Name.str.contains(\"garden|picotin|evelyn|2424|24/24|lindy|Kelly|Birkin|Constance|Multiplis Hermes document holder\", case=False), 'Special'] = 'Y'    \n",
    "    \n",
    "    special = item_conso[item_conso.Special == 'Y'][['Name','Price','Link']]\n",
    "    current_num_product = len(item_conso)\n",
    "    error_flag = 'N'\n",
    "\n",
    "    \n",
    "else:\n",
    "    item_conso = []\n",
    "    special = []\n",
    "    current_num_product = 0\n",
    "    error_flag = 'Y'"
   ]
  },
  {
   "cell_type": "code",
   "execution_count": 14,
   "id": "f08841f9",
   "metadata": {},
   "outputs": [
    {
     "name": "stdout",
     "output_type": "stream",
     "text": [
      "                       Name         Price  \\\n",
      "0      Hermes Clic-H 33 bag  HKD 60,600\\n   \n",
      "1      Hermes Clic-H 33 bag  HKD 61,700\\n   \n",
      "2           Fourbi 20 pouch   HKD 7,200\\n   \n",
      "3           Fourbi 25 pouch   HKD 5,600\\n   \n",
      "4  Hermes Bridleback 50 bag  HKD 46,300\\n   \n",
      "\n",
      "                                                Link Special  \n",
      "0  https://www.hermes.com/hk/en/product/hermes-cl...     NaN  \n",
      "1  https://www.hermes.com/hk/en/product/hermes-cl...     NaN  \n",
      "2  https://www.hermes.com/hk/en/product/fourbi-20...     NaN  \n",
      "3  https://www.hermes.com/hk/en/product/fourbi-25...     NaN  \n",
      "4  https://www.hermes.com/hk/en/product/hermes-br...     NaN  \n"
     ]
    }
   ],
   "source": [
    "#see all items in item_conso\n",
    "\n",
    "print(item_conso)"
   ]
  },
  {
   "cell_type": "code",
   "execution_count": 16,
   "id": "dc27af73",
   "metadata": {},
   "outputs": [
    {
     "name": "stdout",
     "output_type": "stream",
     "text": [
      "Empty DataFrame\n",
      "Columns: [Name, Price, Link]\n",
      "Index: []\n"
     ]
    }
   ],
   "source": [
    "#see valuable items in special\n",
    "\n",
    "print(special)\n",
    "\n",
    "#No results as the items are quite rare!"
   ]
  },
  {
   "cell_type": "markdown",
   "id": "4903c006",
   "metadata": {},
   "source": [
    "# Conclusion:"
   ]
  },
  {
   "cell_type": "markdown",
   "id": "3f5b34f2",
   "metadata": {},
   "source": [
    "This code is showing some basic tracking steps to extract a whole product list from HK hermes website using beautiful soup.\n",
    "The advance usage is to continuously monitor the HK hermes website and send alert message to the users once there is any update \n",
    "through mobile messenger app (e.g. Telegram / whatsapp)\n",
    "\n",
    "Indeed I know how to fully use it, however, it is a bit over to share in here. Some guys on the internet even use it for selling...\n",
    "So I would like to stop in here."
   ]
  }
 ],
 "metadata": {
  "kernelspec": {
   "display_name": "Python 3",
   "language": "python",
   "name": "python3"
  },
  "language_info": {
   "codemirror_mode": {
    "name": "ipython",
    "version": 3
   },
   "file_extension": ".py",
   "mimetype": "text/x-python",
   "name": "python",
   "nbconvert_exporter": "python",
   "pygments_lexer": "ipython3",
   "version": "3.8.8"
  }
 },
 "nbformat": 4,
 "nbformat_minor": 5
}
